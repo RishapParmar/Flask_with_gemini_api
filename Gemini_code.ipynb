{
 "cells": [
  {
   "cell_type": "code",
   "execution_count": 93,
   "id": "8f4e7ad0",
   "metadata": {},
   "outputs": [
    {
     "data": {
      "text/plain": [
       "True"
      ]
     },
     "execution_count": 93,
     "metadata": {},
     "output_type": "execute_result"
    }
   ],
   "source": [
    "from dotenv import load_dotenv\n",
    "import os\n",
    "from google import genai\n",
    "from google.genai import types\n",
    "# from IPython.display import Markdown\n",
    "import markdown\n",
    "import pymupdf\n",
    "\n",
    "from langchain.text_splitter import RecursiveCharacterTextSplitter\n",
    "from langchain_community.embeddings.sentence_transformer import (SentenceTransformerEmbeddings)\n",
    "from langchain_community.vectorstores import SQLiteVec\n",
    "\n",
    "load_dotenv()"
   ]
  },
  {
   "cell_type": "code",
   "execution_count": 91,
   "id": "15ddac69",
   "metadata": {},
   "outputs": [],
   "source": [
    "client = genai.Client(api_key=os.getenv(\"GEMINI_API\"))\n",
    "embedding_function = SentenceTransformerEmbeddings(model_name='BAAI/bge-m3')\n",
    "spliter = RecursiveCharacterTextSplitter( chunk_size=2048, chunk_overlap=20,separators=[\".\",\"\\n\"])"
   ]
  },
  {
   "cell_type": "code",
   "execution_count": null,
   "id": "cf11be4d",
   "metadata": {},
   "outputs": [],
   "source": [
    "PDF_path = r\"Documents\\Python C-Dac (1 - June - 2025).pdf\"\n",
    "doc = pymupdf.open(PDF_path)\n",
    "text_to_chat = \" \".join([page.get_text().replace(\"\\n\",\"\") for page in doc])\n",
    "chunks = spliter.split_text(text_to_chat)\n",
    "db = SQLiteVec.from_texts(texts=chunks,embedding=embedding_function, table=\"state_union\",db_file=\"vec.db\",)"
   ]
  },
  {
   "cell_type": "code",
   "execution_count": null,
   "id": "c3bfd845",
   "metadata": {},
   "outputs": [],
   "source": [
    "user_query = \"History of Python\"\n",
    "data = db.similarity_search(user_query)\n",
    "\n",
    "text_to_chat = \"\"\n",
    "for i in data:\n",
    "    text_to_chat += i.page_content"
   ]
  },
  {
   "cell_type": "code",
   "execution_count": 106,
   "id": "80e6f841",
   "metadata": {},
   "outputs": [],
   "source": [
    "def call_llm(user_question):\n",
    "    response = client.models.generate_content(\n",
    "        model=\"gemini-2.5-flash-lite\",\n",
    "        config = types.GenerateContentConfig(\n",
    "            system_instruction=f\"You are an expert in Python. You must answer questions only using the provided context. If a question is outside the provided context, respond strictly with: 'It is not in the PDF'. Do not add extra explanations. context text ```{text_to_chat} ``` \"),\n",
    "        contents=user_question,\n",
    "    )\n",
    "\n",
    "    return response"
   ]
  },
  {
   "cell_type": "code",
   "execution_count": 107,
   "id": "c693e11e",
   "metadata": {},
   "outputs": [],
   "source": [
    "response =call_llm(user_query)\n"
   ]
  },
  {
   "cell_type": "code",
   "execution_count": 108,
   "id": "5f3b4c16",
   "metadata": {},
   "outputs": [
    {
     "data": {
      "text/plain": [
       "'Guido van Rossum began developing Python in December 1989 as a hobby project while working at the National Research Institute for Mathematics and Computer Science in the Netherlands. He was inspired by ABC, a general-purpose programming language, and set out to create a more intuitive and easy-to-learn language with similar features. The first version of Python, version 0.9.0, was released in February 1991. Over the next few years, Guido continued to work on Python and released several major versions, with Python 2.0 being released in 2000. In 2008, development of Python 3.0 began, with the goal of addressing some of the design flaws in Python 2.x and improving the language overall. Python 3.0 was released in 2008, and since then, all new development efforts have been focused on Python 3.x.'"
      ]
     },
     "execution_count": 108,
     "metadata": {},
     "output_type": "execute_result"
    }
   ],
   "source": [
    "response.text"
   ]
  }
 ],
 "metadata": {
  "kernelspec": {
   "display_name": "aiml_learning",
   "language": "python",
   "name": "python3"
  },
  "language_info": {
   "codemirror_mode": {
    "name": "ipython",
    "version": 3
   },
   "file_extension": ".py",
   "mimetype": "text/x-python",
   "name": "python",
   "nbconvert_exporter": "python",
   "pygments_lexer": "ipython3",
   "version": "3.12.9"
  }
 },
 "nbformat": 4,
 "nbformat_minor": 5
}
